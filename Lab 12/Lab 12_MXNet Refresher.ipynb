{
 "cells": [
  {
   "cell_type": "markdown",
   "metadata": {},
   "source": [
    "# Lab 12 - MXNet Refresher\n",
    "\n",
    "\n",
    "## Description:\n",
    "Familiarize yourself with MxNet by following the official Python tutorials of MxNet In the next lab. Concretely, you should go through the following tutorials:\n",
    "\n",
    "[A 60-minute Gluon crash course](https://mxnet.apache.org/api/python/docs/tutorials/getting-started/crash-course/index.html)\n",
    "[PyTorch to MXNet (MNIST)](https://mxnet.apache.org/api/python/docs/tutorials/getting-started/to-mxnet/pytorch.html)\n",
    "\n",
    "Your assignment is to:\n",
    "\n",
    "- Convert the MNIST classifier (from the crash course) to an MNIST autoencoder (vanilla, not variational)\n",
    "- Train it\n",
    "- Test it \n",
    "- Reconstruct some images\n",
    "- Sample some images\n",
    "\n",
    "### Authors:\n",
    "Chris Beem, Nolan Cardozo, Ajinkya Indulkar"
   ]
  },
  {
   "cell_type": "code",
   "execution_count": null,
   "metadata": {},
   "outputs": [],
   "source": [
    "# import libraries"
   ]
  }
 ],
 "metadata": {
  "kernelspec": {
   "display_name": "Python 3",
   "language": "python",
   "name": "python3"
  },
  "language_info": {
   "codemirror_mode": {
    "name": "ipython",
    "version": 3
   },
   "file_extension": ".py",
   "mimetype": "text/x-python",
   "name": "python",
   "nbconvert_exporter": "python",
   "pygments_lexer": "ipython3",
   "version": "3.7.7"
  }
 },
 "nbformat": 4,
 "nbformat_minor": 2
}
