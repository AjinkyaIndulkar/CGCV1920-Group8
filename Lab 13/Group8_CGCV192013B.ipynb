{
 "cells": [
  {
   "cell_type": "markdown",
   "metadata": {
    "colab_type": "text",
    "id": "87t9m7vdFL6G"
   },
   "source": [
    "```\n",
    "SOW-MKI95 Computer Graphics & Computer Vision Spring 2020\n",
    "Dr. Umut Güçlü\n",
    "Lab 13: Variational autoencoders\n",
    "05-06-2020\n",
    "```\n",
    "```\n",
    "Group number: 8\n",
    "Chris Beem: s1044334\n",
    "Nolan Cardozo: s1034065\n",
    "Ajinkya Indulkar: s1034517\n",
    "```"
   ]
  },
  {
   "cell_type": "code",
   "execution_count": 3,
   "metadata": {
    "colab": {},
    "colab_type": "code",
    "id": "uSl_faq2EGYd"
   },
   "outputs": [],
   "source": [
    "# import mxnet libraries\n",
    "from mxnet import autograd, nd, gluon\n",
    "from mxnet.gluon import nn\n",
    "\n",
    "import matplotlib.pyplot as plt\n",
    "import mxnet as mx\n",
    "import mxnet.ndarray as nd\n",
    "import numpy as np\n",
    "from tqdm.notebook import tqdm\n",
    "\n",
    "from scipy.special import ndtri\n",
    "from scipy.stats import norm\n",
    "\n",
    "%matplotlib inline\n",
    "\n",
    "# set random seed (deterministic behaviour)\n",
    "mx.random.seed(43)\n",
    "np.random.seed(43)"
   ]
  },
  {
   "cell_type": "markdown",
   "metadata": {},
   "source": [
    "Set Notebook Device"
   ]
  },
  {
   "cell_type": "code",
   "execution_count": 2,
   "metadata": {},
   "outputs": [
    {
     "name": "stdout",
     "output_type": "stream",
     "text": [
      "Using CPU for model_ctx\n"
     ]
    }
   ],
   "source": [
    "def gpu_exists():\n",
    "    '''function to check GPU availability'''\n",
    "    try:\n",
    "        mx.nd.zeros((1,), ctx=mx.gpu(0))\n",
    "    except:\n",
    "        return False\n",
    "    return True\n",
    "\n",
    "data_ctx = mx.cpu()\n",
    "if gpu_exists():\n",
    "    print('Using GPU for model_ctx')\n",
    "    model_ctx = mx.gpu(0)\n",
    "else:\n",
    "    print('Using CPU for model_ctx')\n",
    "    model_ctx = mx.cpu()"
   ]
  },
  {
   "cell_type": "code",
   "execution_count": 15,
   "metadata": {},
   "outputs": [],
   "source": [
    "# Global parameters\n",
    "BATCH_SIZE = 100\n",
    "N_HIDDEN   = 400\n",
    "N_LATENT   = 2\n",
    "N_LAYERS   = 1\n",
    "N_OUTPUT   = 784\n",
    "N_EPOCH    = 50\n",
    "model_pfx  = 'vae_{}d{}l{}h.params'.format(N_LATENT, N_LAYERS, N_HIDDEN)"
   ]
  },
  {
   "cell_type": "markdown",
   "metadata": {
    "colab_type": "text",
    "id": "izULJfhWEGYg"
   },
   "source": [
    "### Task 1 (10 points):\n",
    "\n",
    "* Implement the decoder class for a variational autoencoder.\n",
    "\n",
    "---o---\n",
    "\n",
    "Recall that the decoder transforms latents (features) to observables (images). It corresponds to p(x | z) in the context of variational inference (and the slides), where x is observables and z is latents. Note that it should output the Gaussian parameters (mean and variance per pixel) of images rather than images themselves.\n",
    "\n",
    "---o---"
   ]
  },
  {
   "cell_type": "code",
   "execution_count": 0,
   "metadata": {
    "colab": {},
    "colab_type": "code",
    "id": "iEDrnNpjEGYh"
   },
   "outputs": [],
   "source": [
    "class Decoder(nn.HybridSequential):\n",
    "    def __init__(self, activation = \"relu\", hiddens = 400, observables = 784, layers = 1, **kwargs): \n",
    "        super(Decoder, self).__init__(**kwargs)\n",
    "        self.activation = activation\n",
    "        self.hiddens = hiddens\n",
    "        self.observables = observables\n",
    "        self.layers = layers\n",
    "        self.prefix = 'decoder'\n",
    "        for i in range(self.layers):\n",
    "            self.add(nn.Dense(self.hiddens, activation=self.activation))\n",
    "        self.add(nn.Dense(self.observables, activation='sigmoid'))"
   ]
  },
  {
   "cell_type": "markdown",
   "metadata": {
    "colab_type": "text",
    "id": "7KE1zoq2EGYk"
   },
   "source": [
    "### Task 2 (10 points):\n",
    "\n",
    "* Implement the encoder class for a variational autoencoder.\n",
    "\n",
    "---o---\n",
    "\n",
    "Recall that the encoder transforms observables (images) to latents (features). It corresponds to q(z | x) in the context of variational inference (and the slides), where z is latents and x is observables. Note that it should output the Gaussian parameters (mean and variance per feature) of features rather than features themselves.\n",
    "\n",
    "---o---"
   ]
  },
  {
   "cell_type": "code",
   "execution_count": 0,
   "metadata": {
    "colab": {},
    "colab_type": "code",
    "id": "9sZngO1pEGYl"
   },
   "outputs": [],
   "source": [
    "class Encoder(nn.HybridSequential):\n",
    "    def __init__(self, activation = \"relu\", hiddens= 400, latents = 2, layers = 1, **kwargs): # Feel free to use different arguments\n",
    "        super(Encoder, self).__init__(**kwargs)\n",
    "        self.activation = activation\n",
    "        self.hiddens = hiddens\n",
    "        self.latents = latents\n",
    "        self.layers = layers\n",
    "        self.prefix = 'encoder'\n",
    "        for i in range(self.layers):\n",
    "            self.encoder.add(nn.Dense(self.hiddens, activation=self.activation))\n",
    "        self.encoder.add(nn.Dense(self.latents*2, activation=None))"
   ]
  },
  {
   "cell_type": "markdown",
   "metadata": {
    "colab_type": "text",
    "id": "N59f0FCOEGYn"
   },
   "source": [
    "### Task:\n",
    "\n",
    "* Implement the loss function class for a variational autoecoder.\n",
    "\n",
    "---o---\n",
    "\n",
    "The loss function takes the following arguments as input:\n",
    "\n",
    "* x        : input images (mini batch)\n",
    "* x_mean   : mean of the decoded images (output of the decoder)\n",
    "* x_log_var: mean of the decoded images (output of the decoder)\n",
    "* z_mean   : mean of the encoded features (output of the encoder)\n",
    "* z_log_var: log variance of the encoded features (output of the encoder)\n",
    "\n",
    "It gives the following evidence lower bound (ELBO) as ouput:\n",
    "\n",
    "* $L = D_{KL}(q(z | x), p(z)) -  E_{z\\sim q}[log p(x | z)]$\n",
    "\n",
    "where\n",
    "\n",
    "* The first term is the KL divergence between the approximate Gaussian posterior (q) and the standard Gaussian prior (p), which can be interpreted as a form of regularization.\n",
    "* The second term is the Gaussian negative log likelihood, which is the term that fits the data and is very similar to the usual loss functions that are usded in deep learning.\n",
    "\n",
    "---o---"
   ]
  },
  {
   "cell_type": "code",
   "execution_count": 1,
   "metadata": {
    "colab": {},
    "colab_type": "code",
    "id": "DAfVRFXJEGYo"
   },
   "outputs": [],
   "source": [
    "class ELBOLoss:\n",
    "    # Feel free to use different w which can be used as the weight of the different loss components\n",
    "    def __init__(self, w = 1.0): \n",
    "        self.w = w\n",
    "        self.soft_zero = 1e-10\n",
    "\n",
    "    def __call__(self, x, x_mean, x_log_var, z_mean, z_log_var):\n",
    "        # Your code here...\n",
    "#         compute Gaussian negative log likelihood: F.sum(x*F.log(y+self.soft_zero)+ (1-x)*F.log(1-y+self.soft_zero), \n",
    "#                                                         axis=1)\n",
    "        logloss = 0\n",
    "        # compute KL Divergence: 0.5*F.sum(1+lv-mu*mu-F.exp(lv),axis=1)\n",
    "        KL = 0\n",
    "        # compute ELBO\n",
    "        loss = -logloss-KL\n",
    "        return loss * self.w"
   ]
  },
  {
   "cell_type": "markdown",
   "metadata": {
    "colab_type": "text",
    "id": "0gxKE99gEGYr"
   },
   "source": [
    "### Task (5 points):\n",
    "\n",
    "* Implement the variational autoencoder."
   ]
  },
  {
   "cell_type": "code",
   "execution_count": 0,
   "metadata": {
    "colab": {},
    "colab_type": "code",
    "id": "esbwnvO4EGYr"
   },
   "outputs": [],
   "source": [
    "class VariationalAutoencoder(gluon.HybridBlock):\n",
    "    # Feel free to use different arguments\n",
    "    def __init__(self,  activation = \"relu\", hiddens= 400, latents = 2, observables = 784, layers = 1, **kwargs): \n",
    "        super(VariationalAutoencoder, self).__init__()\n",
    "        with self.name_scope():\n",
    "            self.decoder = Encoder(activation, hiddens, observables, layers, **kwargs)\n",
    "            self.encoder = Encoder(activation, hiddens, latents, layers, **kwargs)\n",
    "\n",
    "    def hybrid_forward(self, F, x):\n",
    "        # Your code here...\n",
    "        return x_mean, x_log_var, z_mean, z_log_var"
   ]
  },
  {
   "cell_type": "markdown",
   "metadata": {
    "colab_type": "text",
    "id": "EjFitH3uEGYu"
   },
   "source": [
    "### Task (25 points):\n",
    "\n",
    "* Train the variational autoencoder on the Mnist dataset. You can refer to the previous assignment to implement your training loop."
   ]
  },
  {
   "cell_type": "markdown",
   "metadata": {},
   "source": [
    "#### Load MNIST Data"
   ]
  },
  {
   "cell_type": "code",
   "execution_count": 3,
   "metadata": {
    "colab": {},
    "colab_type": "code",
    "id": "vunmTd11EGYv"
   },
   "outputs": [
    {
     "data": {
      "image/png": "[encoded data removed]",
      "text/plain": [
       "<Figure size 1152x288 with 10 Axes>"
      ]
     },
     "metadata": {},
     "output_type": "display_data"
    }
   ],
   "source": [
    "mnist = mx.test_utils.get_mnist()\n",
    "\n",
    "n_samples = 10\n",
    "idx = np.random.choice(len(mnist['train_data']), n_samples)\n",
    "_, axarr = plt.subplots(1, n_samples, figsize=(16,4))\n",
    "for i,j in enumerate(idx):\n",
    "    axarr[i].imshow(mnist['train_data'][j][0], cmap='Greys')\n",
    "    axarr[i].get_xaxis().set_ticks([])\n",
    "    axarr[i].get_yaxis().set_ticks([])\n",
    "plt.show()"
   ]
  },
  {
   "cell_type": "code",
   "execution_count": 8,
   "metadata": {},
   "outputs": [
    {
     "name": "stdout",
     "output_type": "stream",
     "text": [
      "Train - Number of samples: 60000 | shape of samples: (60000, 1, 28, 28) | shape of labels: (60000,)\n",
      "Test - Number of samples: 10000 | shape of samples: (10000, 1, 28, 28) | shape of labels: (10000,)\n"
     ]
    }
   ],
   "source": [
    "# inspect dataset\n",
    "print(\"Train - Number of samples: {} | shape of samples: {} | shape of labels: {}\".format(mnist['train_data'].shape[0],\n",
    "                                                                                         mnist['train_data'].shape,\n",
    "                                                                                         mnist['train_label'].shape))\n",
    "print(\"Test - Number of samples: {} | shape of samples: {} | shape of labels: {}\".format(mnist['test_data'].shape[0],\n",
    "                                                                                         mnist['test_data'].shape,\n",
    "                                                                                         mnist['test_label'].shape))"
   ]
  },
  {
   "cell_type": "code",
   "execution_count": 13,
   "metadata": {},
   "outputs": [],
   "source": [
    "# reshape train and test sets\n",
    "train_data = np.reshape(mnist['train_data'],(-1,28*28))\n",
    "test_data = np.reshape(mnist['test_data'],(-1,28*28))\n",
    "\n",
    "# define data loaders\n",
    "n_batches = train_data.shape[0]/BATCH_SIZE\n",
    "train = mx.io.NDArrayIter(data={'data': train_data}, label={'label': mnist['train_label']}, \n",
    "                               batch_size = BATCH_SIZE)\n",
    "test  = mx.io.NDArrayIter(data={'data': test_data}, label={'label': mnist['test_label']}, \n",
    "                              batch_size = BATCH_SIZE)"
   ]
  },
  {
   "cell_type": "markdown",
   "metadata": {},
   "source": [
    "#### Train Model"
   ]
  },
  {
   "cell_type": "code",
   "execution_count": null,
   "metadata": {},
   "outputs": [],
   "source": [
    "# define model\n",
    "net = VariationalAutoencoder(hiddens=N_HIDDEN, latents=N_LATENT, observables=N_OUTPUT, layers=N_LAYERS)\n",
    "# initialize model\n",
    "net.collect_params().initialize(mx.init.Xavier(), ctx=model_ctx)\n",
    "net.hybridize()\n",
    "# define optimizer and loss criterion\n",
    "trainer = gluon.Trainer(net.collect_params(), 'adam', {'learning_rate': .001})\n",
    "criterion = ELBOLoss()"
   ]
  },
  {
   "cell_type": "code",
   "execution_count": null,
   "metadata": {},
   "outputs": [],
   "source": [
    "print_period = N_EPOCH // 10\n",
    "start = time.time()\n",
    "training_loss = []\n",
    "validation_loss = []\n",
    "\n",
    "# train over N_EPOCH\n",
    "for epoch in tqdm(range(N_EPOCH), desc='epochs'):\n",
    "    epoch_loss = 0\n",
    "    epoch_val_loss = 0\n",
    "    \n",
    "    # reset data loaders\n",
    "    train.reset()\n",
    "    test.reset()\n",
    "    \n",
    "    # iterate over train data and update model\n",
    "    n_batch_train = 0\n",
    "    for batch in train:\n",
    "        n_batch_train +=1\n",
    "        # fetch data\n",
    "        data = batch.data[0].as_in_context(model_ctx)\n",
    "        with autograd.record():\n",
    "            # feed-forward function\n",
    "            x_mean, x_log_var, z_mean, z_log_var = net(data) \n",
    "            # compute loss\n",
    "            loss = criterion(data, x_mean, x_log_var, z_mean, z_log_var) \n",
    "        # backprop\n",
    "        loss.backward() \n",
    "        # optimizer step\n",
    "        trainer.step(data.shape[0]) \n",
    "        epoch_loss += nd.mean(loss).asscalar()\n",
    "\n",
    "    # iterate over test data and compute loss\n",
    "    n_batch_val = 0\n",
    "    for batch in test:\n",
    "        n_batch_val +=1\n",
    "        data = batch.data[0].as_in_context(model_ctx)\n",
    "        loss = net(data)\n",
    "        epoch_val_loss += nd.mean(loss).asscalar()\n",
    "\n",
    "    # normalize losses\n",
    "    epoch_loss /= n_batch_train\n",
    "    epoch_val_loss /= n_batch_val\n",
    "    \n",
    "    # save losses\n",
    "    training_loss.append(epoch_loss)\n",
    "    validation_loss.append(epoch_val_loss)\n",
    "\n",
    "    # print training logs\n",
    "    if epoch % max(print_period,1) == 0:\n",
    "        tqdm.write('Epoch{}, Training loss {:.2f}, Validation loss {:.2f}'.format(epoch, epoch_loss, epoch_val_loss))\n",
    "\n",
    "end = time.time()\n",
    "print('Time elapsed: {:.2f}s'.format(end - start))"
   ]
  },
  {
   "cell_type": "code",
   "execution_count": null,
   "metadata": {},
   "outputs": [],
   "source": [
    "# save model\n",
    "net.save_parameters(model_pfx)"
   ]
  },
  {
   "cell_type": "markdown",
   "metadata": {},
   "source": [
    "#### Plot Training"
   ]
  },
  {
   "cell_type": "code",
   "execution_count": null,
   "metadata": {},
   "outputs": [],
   "source": [
    "batch_x = np.linspace(1, n_epoch, len(training_loss))\n",
    "plt.figure()\n",
    "plt.plot(batch_x, -1*np.array(training_loss))\n",
    "plt.plot(batch_x, -1*np.array(validation_loss))\n",
    "plt.legend(['train', 'valid'])\n",
    "plt.show()"
   ]
  },
  {
   "cell_type": "markdown",
   "metadata": {
    "colab_type": "text",
    "id": "Er_NwFS0EGYy"
   },
   "source": [
    "### Task (50 points):\n",
    "* Evaluate the reconstruction quality of the variational autoencoder: Draw some Mnist like images, encode them, decode them, visualize them and briefly explain the results.\n",
    " * Repeat the task with drawings of something else (e.g., a face).\n",
    "* Evaluate the sampling quality of the variational autoencoder: Sample some random features from the prior, decode them, visualize them and briefly explain the results.\n",
    " * Repeat the task with features on a regular grid.\n",
    "* Evaluate the latent quality of the variational autoencoder: Scatter plot features of images, color code their labels."
   ]
  },
  {
   "cell_type": "code",
   "execution_count": null,
   "metadata": {},
   "outputs": [],
   "source": [
    "# load model\n",
    "net2 = VariationalAutoencoder(hiddens=N_HIDDEN, latents=N_LATENT, observables=N_OUTPUT, layers=N_LAYERS)\n",
    "net2.load_parameters(model_pfx, ctx=model_ctx)"
   ]
  },
  {
   "cell_type": "markdown",
   "metadata": {},
   "source": [
    "#### Visualizing Reconstruction Quality"
   ]
  },
  {
   "cell_type": "code",
   "execution_count": 0,
   "metadata": {
    "colab": {},
    "colab_type": "code",
    "id": "z1SGUbpfEGYy"
   },
   "outputs": [],
   "source": [
    "# reset test data loader\n",
    "test_iter.reset()\n",
    "# fetch first batch from data loader\n",
    "test_batch = test_iter.next()\n",
    "# pass test batch input through the network\n",
    "x_mean, x_log_var, z_mean, z_log_var = net2(test_batch.data[0].as_in_context(model_ctx))\n",
    "# fetch output\n",
    "result = net2.output.asnumpy() # CHANGE THIS\n",
    "original = test_batch.data[0].asnumpy()"
   ]
  },
  {
   "cell_type": "code",
   "execution_count": null,
   "metadata": {},
   "outputs": [],
   "source": [
    "n_samples = 10\n",
    "idx = np.random.choice(batch_size, n_samples)\n",
    "_, axarr = plt.subplots(2, n_samples, figsize=(16,4))\n",
    "for i,j in enumerate(idx):\n",
    "    axarr[0,i].imshow(original[j].reshape((28,28)), cmap='Greys')\n",
    "    if i==0:\n",
    "        axarr[0,i].set_title('original')\n",
    "    #axarr[0,i].axis('off')\n",
    "    axarr[0,i].get_xaxis().set_ticks([])\n",
    "    axarr[0,i].get_yaxis().set_ticks([])\n",
    "\n",
    "    axarr[1,i].imshow(result[j].reshape((28,28)), cmap='Greys')\n",
    "    if i==0:\n",
    "        axarr[1,i].set_title('reconstruction')\n",
    "    #axarr[1,i].axis('off')\n",
    "    axarr[1,i].get_xaxis().set_ticks([])\n",
    "    axarr[1,i].get_yaxis().set_ticks([])\n",
    "plt.show()"
   ]
  },
  {
   "cell_type": "markdown",
   "metadata": {},
   "source": [
    "Load New Dataset and observe reconstruction"
   ]
  },
  {
   "cell_type": "markdown",
   "metadata": {},
   "source": [
    "#### Sample latent space and generate images\n",
    "Random sampling"
   ]
  },
  {
   "cell_type": "code",
   "execution_count": null,
   "metadata": {},
   "outputs": [],
   "source": [
    "n_samples = 10\n",
    "zsamples = nd.array(np.random.randn(n_samples*n_samples, n_latent))\n",
    "images = net2.decoder(zsamples.as_in_context(model_ctx)).asnumpy()"
   ]
  },
  {
   "cell_type": "code",
   "execution_count": null,
   "metadata": {},
   "outputs": [],
   "source": [
    "canvas = np.empty((28*n_samples, 28*n_samples))\n",
    "for i, img in enumerate(images):\n",
    "    x = i // n_samples\n",
    "    y = i % n_samples\n",
    "    canvas[(n_samples-y-1)*28:(n_samples-y)*28, x*28:(x+1)*28] = img.reshape(28, 28)\n",
    "plt.figure(figsize=(4, 4))\n",
    "plt.imshow(canvas, origin=\"upper\", cmap=\"Greys\")\n",
    "plt.axis('off')\n",
    "plt.tight_layout()\n",
    "plt.show()"
   ]
  },
  {
   "cell_type": "markdown",
   "metadata": {},
   "source": [
    "Grid scan 2D latent space"
   ]
  },
  {
   "cell_type": "code",
   "execution_count": null,
   "metadata": {},
   "outputs": [],
   "source": [
    "# plot latent space\n",
    "if n_latent==2:\n",
    "    n_pts = 20\n",
    "\n",
    "    idx = np.arange(0, n_pts)\n",
    "\n",
    "    x = np.linspace(norm.cdf(-3), norm.cdf(3),n_pts)\n",
    "    x = ndtri(x)\n",
    "\n",
    "    x_grid = np.array(np.meshgrid(*[i for i in np.matlib.repmat(x,n_latent,1)]))\n",
    "    id_grid = np.array(np.meshgrid(*[i for i in np.matlib.repmat(idx,n_latent,1)]))\n",
    "\n",
    "    zsamples = nd.array(x_grid.reshape((n_latent, -1)).transpose())\n",
    "    zsamples_id = id_grid.reshape((n_latent, -1)).transpose()\n",
    "\n",
    "    images = net2.decoder(zsamples.as_in_context(model_ctx)).asnumpy()\n",
    "\n",
    "    # plot\n",
    "    canvas = np.empty((28*n_pts, 28*n_pts))\n",
    "    for i, img in enumerate(images):\n",
    "        x, y = zsamples_id[i]\n",
    "        canvas[(n_pts-y-1)*28:(n_pts-y)*28, x*28:(x+1)*28] = img.reshape(28, 28)\n",
    "    plt.figure(figsize=(6, 6))\n",
    "    plt.imshow(canvas, origin=\"upper\", cmap=\"Greys\")\n",
    "    plt.axis('off')\n",
    "    plt.tight_layout()\n",
    "    plt.show()"
   ]
  },
  {
   "cell_type": "markdown",
   "metadata": {},
   "source": [
    "#### Visualizing latent space (when it is 2D)"
   ]
  },
  {
   "cell_type": "code",
   "execution_count": null,
   "metadata": {},
   "outputs": [],
   "source": [
    "n_batches = 10\n",
    "counter = 0\n",
    "results = []\n",
    "labels = []\n",
    "for batch in test_iter:\n",
    "    x_mean, x_log_var, z_mean, z_log_var = net2(batch.data[0].as_in_context(model_ctx))\n",
    "    results.append(net2.mu.asnumpy()) # CHANGE THIS\n",
    "    labels.append(batch.label[0].asnumpy())\n",
    "    counter +=1\n",
    "    if counter >= n_batches:\n",
    "        break\n",
    "\n",
    "# transform lists\n",
    "result = np.vstack(results)\n",
    "labels = np.hstack(labels)"
   ]
  },
  {
   "cell_type": "code",
   "execution_count": null,
   "metadata": {},
   "outputs": [],
   "source": [
    "# plot latent space\n",
    "if result.shape[1]==2:\n",
    "    fig, axarr = plt.subplots(1,2, figsize=(10,4))\n",
    "    im=axarr[0].scatter(result[:, 0], result[:, 1], c=labels, alpha=0.6, cmap='Paired')\n",
    "    axarr[0].set_title(r'scatter plot of $\\mu$')\n",
    "    axarr[0].axis('equal')\n",
    "    fig.colorbar(im, ax=axarr[0])\n",
    "\n",
    "    im=axarr[1].scatter(norm.cdf(result[:, 0]), norm.cdf(result[:, 1]), c=labels, alpha=0.6, cmap='Paired')\n",
    "    axarr[1].set_title(r'scatter plot of $\\mu$ on norm.cdf() transformed coordinates')\n",
    "    axarr[1].axis('equal')\n",
    "    fig.colorbar(im, ax=axarr[1])\n",
    "    plt.tight_layout()\n",
    "    plt.show()"
   ]
  }
 ],
 "metadata": {
  "colab": {
   "collapsed_sections": [],
   "name": "CGCV192013B.ipynb",
   "provenance": []
  },
  "kernelspec": {
   "display_name": "Python 3",
   "language": "python",
   "name": "python3"
  },
  "language_info": {
   "codemirror_mode": {
    "name": "ipython",
    "version": 3
   },
   "file_extension": ".py",
   "mimetype": "text/x-python",
   "name": "python",
   "nbconvert_exporter": "python",
   "pygments_lexer": "ipython3",
   "version": "3.7.7"
  }
 },
 "nbformat": 4,
 "nbformat_minor": 1
}
